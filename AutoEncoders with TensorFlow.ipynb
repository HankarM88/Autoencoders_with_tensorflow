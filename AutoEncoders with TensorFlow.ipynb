{
 "cells": [
  {
   "cell_type": "code",
   "execution_count": 3,
   "metadata": {},
   "outputs": [],
   "source": [
    "import pandas as pd \n",
    "import matplotlib.pyplot as plt \n",
    "import tensorflow as tf \n",
    "import numpy as np "
   ]
  },
  {
   "cell_type": "code",
   "execution_count": 4,
   "metadata": {},
   "outputs": [
    {
     "data": {
      "text/html": [
       "<div>\n",
       "<style scoped>\n",
       "    .dataframe tbody tr th:only-of-type {\n",
       "        vertical-align: middle;\n",
       "    }\n",
       "\n",
       "    .dataframe tbody tr th {\n",
       "        vertical-align: top;\n",
       "    }\n",
       "\n",
       "    .dataframe thead th {\n",
       "        text-align: right;\n",
       "    }\n",
       "</style>\n",
       "<table border=\"1\" class=\"dataframe\">\n",
       "  <thead>\n",
       "    <tr style=\"text-align: right;\">\n",
       "      <th></th>\n",
       "      <th>EJWY</th>\n",
       "      <th>VALM</th>\n",
       "      <th>EGXO</th>\n",
       "      <th>HTGR</th>\n",
       "      <th>SKRF</th>\n",
       "      <th>NNSZ</th>\n",
       "      <th>NYLC</th>\n",
       "      <th>GWID</th>\n",
       "      <th>TVUT</th>\n",
       "      <th>CJHI</th>\n",
       "      <th>...</th>\n",
       "      <th>LKKS</th>\n",
       "      <th>UOBF</th>\n",
       "      <th>VBHE</th>\n",
       "      <th>FRWU</th>\n",
       "      <th>NDYZ</th>\n",
       "      <th>QSBO</th>\n",
       "      <th>JDUB</th>\n",
       "      <th>TEVK</th>\n",
       "      <th>EZTM</th>\n",
       "      <th>Label</th>\n",
       "    </tr>\n",
       "  </thead>\n",
       "  <tbody>\n",
       "    <tr>\n",
       "      <th>0</th>\n",
       "      <td>-2.032145</td>\n",
       "      <td>1.019576</td>\n",
       "      <td>-9.658715</td>\n",
       "      <td>-6.210495</td>\n",
       "      <td>3.156823</td>\n",
       "      <td>7.457850</td>\n",
       "      <td>-5.313357</td>\n",
       "      <td>8.508296</td>\n",
       "      <td>3.959194</td>\n",
       "      <td>-5.246654</td>\n",
       "      <td>...</td>\n",
       "      <td>-2.209663</td>\n",
       "      <td>-10.340123</td>\n",
       "      <td>-7.697555</td>\n",
       "      <td>-5.932752</td>\n",
       "      <td>10.872688</td>\n",
       "      <td>0.081321</td>\n",
       "      <td>1.276316</td>\n",
       "      <td>5.281225</td>\n",
       "      <td>-0.516447</td>\n",
       "      <td>0.0</td>\n",
       "    </tr>\n",
       "    <tr>\n",
       "      <th>1</th>\n",
       "      <td>8.306217</td>\n",
       "      <td>6.649376</td>\n",
       "      <td>-0.960333</td>\n",
       "      <td>-4.094799</td>\n",
       "      <td>8.738965</td>\n",
       "      <td>-3.458797</td>\n",
       "      <td>7.016800</td>\n",
       "      <td>6.692765</td>\n",
       "      <td>0.898264</td>\n",
       "      <td>9.337643</td>\n",
       "      <td>...</td>\n",
       "      <td>0.851793</td>\n",
       "      <td>-9.678324</td>\n",
       "      <td>-6.071795</td>\n",
       "      <td>1.428194</td>\n",
       "      <td>-8.082792</td>\n",
       "      <td>-0.557089</td>\n",
       "      <td>-7.817282</td>\n",
       "      <td>-8.686722</td>\n",
       "      <td>-6.953100</td>\n",
       "      <td>1.0</td>\n",
       "    </tr>\n",
       "    <tr>\n",
       "      <th>2</th>\n",
       "      <td>6.570842</td>\n",
       "      <td>6.985462</td>\n",
       "      <td>-1.842621</td>\n",
       "      <td>-1.569599</td>\n",
       "      <td>10.039339</td>\n",
       "      <td>-3.623026</td>\n",
       "      <td>8.957619</td>\n",
       "      <td>7.577283</td>\n",
       "      <td>1.541255</td>\n",
       "      <td>7.161509</td>\n",
       "      <td>...</td>\n",
       "      <td>1.376085</td>\n",
       "      <td>-8.971164</td>\n",
       "      <td>-5.302191</td>\n",
       "      <td>2.898965</td>\n",
       "      <td>-8.746597</td>\n",
       "      <td>-0.520888</td>\n",
       "      <td>-7.350999</td>\n",
       "      <td>-8.925501</td>\n",
       "      <td>-7.051179</td>\n",
       "      <td>1.0</td>\n",
       "    </tr>\n",
       "    <tr>\n",
       "      <th>3</th>\n",
       "      <td>-1.139972</td>\n",
       "      <td>0.579422</td>\n",
       "      <td>-9.526530</td>\n",
       "      <td>-5.744928</td>\n",
       "      <td>4.834355</td>\n",
       "      <td>5.907235</td>\n",
       "      <td>-4.804137</td>\n",
       "      <td>6.798810</td>\n",
       "      <td>5.403670</td>\n",
       "      <td>-7.642857</td>\n",
       "      <td>...</td>\n",
       "      <td>0.270571</td>\n",
       "      <td>-8.640988</td>\n",
       "      <td>-8.105419</td>\n",
       "      <td>-5.079015</td>\n",
       "      <td>9.351282</td>\n",
       "      <td>0.641759</td>\n",
       "      <td>1.898083</td>\n",
       "      <td>3.904671</td>\n",
       "      <td>1.453499</td>\n",
       "      <td>0.0</td>\n",
       "    </tr>\n",
       "    <tr>\n",
       "      <th>4</th>\n",
       "      <td>-1.738104</td>\n",
       "      <td>0.234729</td>\n",
       "      <td>-11.558768</td>\n",
       "      <td>-7.181332</td>\n",
       "      <td>4.189626</td>\n",
       "      <td>7.765274</td>\n",
       "      <td>-2.189083</td>\n",
       "      <td>7.239925</td>\n",
       "      <td>3.135602</td>\n",
       "      <td>-6.211390</td>\n",
       "      <td>...</td>\n",
       "      <td>-0.013973</td>\n",
       "      <td>-9.437110</td>\n",
       "      <td>-6.475267</td>\n",
       "      <td>-5.708377</td>\n",
       "      <td>9.623080</td>\n",
       "      <td>1.802899</td>\n",
       "      <td>1.903705</td>\n",
       "      <td>4.188442</td>\n",
       "      <td>1.522362</td>\n",
       "      <td>0.0</td>\n",
       "    </tr>\n",
       "  </tbody>\n",
       "</table>\n",
       "<p>5 rows × 31 columns</p>\n",
       "</div>"
      ],
      "text/plain": [
       "       EJWY      VALM       EGXO      HTGR       SKRF      NNSZ      NYLC  \\\n",
       "0 -2.032145  1.019576  -9.658715 -6.210495   3.156823  7.457850 -5.313357   \n",
       "1  8.306217  6.649376  -0.960333 -4.094799   8.738965 -3.458797  7.016800   \n",
       "2  6.570842  6.985462  -1.842621 -1.569599  10.039339 -3.623026  8.957619   \n",
       "3 -1.139972  0.579422  -9.526530 -5.744928   4.834355  5.907235 -4.804137   \n",
       "4 -1.738104  0.234729 -11.558768 -7.181332   4.189626  7.765274 -2.189083   \n",
       "\n",
       "       GWID      TVUT      CJHI  ...      LKKS       UOBF      VBHE      FRWU  \\\n",
       "0  8.508296  3.959194 -5.246654  ... -2.209663 -10.340123 -7.697555 -5.932752   \n",
       "1  6.692765  0.898264  9.337643  ...  0.851793  -9.678324 -6.071795  1.428194   \n",
       "2  7.577283  1.541255  7.161509  ...  1.376085  -8.971164 -5.302191  2.898965   \n",
       "3  6.798810  5.403670 -7.642857  ...  0.270571  -8.640988 -8.105419 -5.079015   \n",
       "4  7.239925  3.135602 -6.211390  ... -0.013973  -9.437110 -6.475267 -5.708377   \n",
       "\n",
       "        NDYZ      QSBO      JDUB      TEVK      EZTM  Label  \n",
       "0  10.872688  0.081321  1.276316  5.281225 -0.516447    0.0  \n",
       "1  -8.082792 -0.557089 -7.817282 -8.686722 -6.953100    1.0  \n",
       "2  -8.746597 -0.520888 -7.350999 -8.925501 -7.051179    1.0  \n",
       "3   9.351282  0.641759  1.898083  3.904671  1.453499    0.0  \n",
       "4   9.623080  1.802899  1.903705  4.188442  1.522362    0.0  \n",
       "\n",
       "[5 rows x 31 columns]"
      ]
     },
     "execution_count": 4,
     "metadata": {},
     "output_type": "execute_result"
    }
   ],
   "source": [
    "# load data \n",
    "data=pd.read_csv('anonymized_data.csv')\n",
    "data.head()"
   ]
  },
  {
   "cell_type": "code",
   "execution_count": 5,
   "metadata": {},
   "outputs": [
    {
     "name": "stdout",
     "output_type": "stream",
     "text": [
      "<class 'pandas.core.frame.DataFrame'>\n",
      "RangeIndex: 500 entries, 0 to 499\n",
      "Data columns (total 31 columns):\n",
      " #   Column  Non-Null Count  Dtype  \n",
      "---  ------  --------------  -----  \n",
      " 0   EJWY    500 non-null    float64\n",
      " 1   VALM    500 non-null    float64\n",
      " 2   EGXO    500 non-null    float64\n",
      " 3   HTGR    500 non-null    float64\n",
      " 4   SKRF    500 non-null    float64\n",
      " 5   NNSZ    500 non-null    float64\n",
      " 6   NYLC    500 non-null    float64\n",
      " 7   GWID    500 non-null    float64\n",
      " 8   TVUT    500 non-null    float64\n",
      " 9   CJHI    500 non-null    float64\n",
      " 10  NVFW    500 non-null    float64\n",
      " 11  VLBG    500 non-null    float64\n",
      " 12  IDIX    500 non-null    float64\n",
      " 13  UVHN    500 non-null    float64\n",
      " 14  IWOT    500 non-null    float64\n",
      " 15  LEMB    500 non-null    float64\n",
      " 16  QMYY    500 non-null    float64\n",
      " 17  XDGR    500 non-null    float64\n",
      " 18  ODZS    500 non-null    float64\n",
      " 19  LNJS    500 non-null    float64\n",
      " 20  WDRT    500 non-null    float64\n",
      " 21  LKKS    500 non-null    float64\n",
      " 22  UOBF    500 non-null    float64\n",
      " 23  VBHE    500 non-null    float64\n",
      " 24  FRWU    500 non-null    float64\n",
      " 25  NDYZ    500 non-null    float64\n",
      " 26  QSBO    500 non-null    float64\n",
      " 27  JDUB    500 non-null    float64\n",
      " 28  TEVK    500 non-null    float64\n",
      " 29  EZTM    500 non-null    float64\n",
      " 30  Label   500 non-null    float64\n",
      "dtypes: float64(31)\n",
      "memory usage: 121.2 KB\n"
     ]
    }
   ],
   "source": [
    "data.info()"
   ]
  },
  {
   "cell_type": "code",
   "execution_count": 13,
   "metadata": {},
   "outputs": [],
   "source": [
    "#data scaling \n",
    "from sklearn.preprocessing import MinMaxScaler\n",
    "scaler=MinMaxScaler()\n",
    "scaled_data=scaler.fit_transform(data.drop('Label',axis=1))"
   ]
  },
  {
   "cell_type": "code",
   "execution_count": 14,
   "metadata": {},
   "outputs": [
    {
     "data": {
      "text/plain": [
       "array([[0.        , 0.26590249, 0.19337622, 0.35079626, 0.174354  ,\n",
       "        0.85015373, 0.08343097, 0.69542425, 0.68843639, 0.17652479,\n",
       "        0.76120555, 0.68149417, 0.17246126, 0.32567559, 0.88534597,\n",
       "        0.61979791, 0.15089949, 0.91084242, 0.22432691, 0.18339152,\n",
       "        0.62518272, 0.12589593, 0.25006804, 0.26934915, 0.24438403,\n",
       "        0.92087766, 0.4204996 , 0.76146479, 0.89187148, 0.69449859],\n",
       "       [0.78003243, 0.82101815, 0.86384145, 0.57590973, 0.67692397,\n",
       "        0.13033185, 0.82541059, 0.41063677, 0.37808881, 0.89070037,\n",
       "        0.1322798 , 0.21797755, 0.92548188, 0.95009923, 0.14051771,\n",
       "        0.67925855, 0.81393544, 0.24353823, 0.52364777, 0.50029964,\n",
       "        0.67212831, 0.5864706 , 0.34260719, 0.50162243, 0.76815518,\n",
       "        0.12232245, 0.32021909, 0.13118915, 0.14173837, 0.18919308],\n",
       "       [0.64909787, 0.85415725, 0.79583534, 0.84459509, 0.79399894,\n",
       "        0.11950296, 0.94220138, 0.54938391, 0.44328169, 0.78413769,\n",
       "        0.25464475, 0.39450255, 0.83574486, 0.89391205, 0.09938599,\n",
       "        0.5364358 , 0.90335663, 0.23957441, 0.40022004, 0.80716867,\n",
       "        0.62203283, 0.66534667, 0.44148928, 0.61157619, 0.87280851,\n",
       "        0.09435774, 0.32590547, 0.16350718, 0.12891497, 0.18149351]])"
      ]
     },
     "execution_count": 14,
     "metadata": {},
     "output_type": "execute_result"
    }
   ],
   "source": [
    "scaled_data[:3]"
   ]
  },
  {
   "cell_type": "code",
   "execution_count": 15,
   "metadata": {},
   "outputs": [
    {
     "data": {
      "text/plain": [
       "(500, 30)"
      ]
     },
     "execution_count": 15,
     "metadata": {},
     "output_type": "execute_result"
    }
   ],
   "source": [
    "scaled_data.shape"
   ]
  },
  {
   "cell_type": "code",
   "execution_count": 28,
   "metadata": {},
   "outputs": [],
   "source": [
    "# Define some parameters \n",
    "num_inputs =30\n",
    "num_hidden = 2\n",
    "num_outputs = num_inputs \n",
    "\n",
    "learning_rate =0.01"
   ]
  },
  {
   "cell_type": "code",
   "execution_count": 29,
   "metadata": {},
   "outputs": [],
   "source": [
    "\n",
    "# Craete the Linear Autoencoder to reduce the dimensions of its features \n",
    "from tensorflow.compat.v1.layers import dense\n",
    "#disable eager execution for placeholders \n",
    "tf.compat.v1.disable_eager_execution()\n",
    "#define placeholders \n",
    "X = tf.compat.v1.placeholder(tf.float32,shape=[None,num_inputs])\n"
   ]
  },
  {
   "cell_type": "code",
   "execution_count": 30,
   "metadata": {},
   "outputs": [],
   "source": [
    "# create two LAYERS\n",
    "hidden= dense(inputs=X,units=num_hidden,activation=None)\n",
    "outputs = dense(inputs=hidden,units=num_outputs,activation=None)"
   ]
  },
  {
   "cell_type": "code",
   "execution_count": 31,
   "metadata": {},
   "outputs": [],
   "source": [
    "#define loss function \n",
    "loss = tf.compat.v1.reduce_mean(tf.square(outputs - X))  # MSE\n",
    "#opimizer \n",
    "optimizer = tf.compat.v1.train.AdamOptimizer(learning_rate)\n",
    "train  = optimizer.minimize( loss)"
   ]
  },
  {
   "cell_type": "code",
   "execution_count": 34,
   "metadata": {},
   "outputs": [],
   "source": [
    "# Now let's run a tf session to train our model \n",
    "init = tf.compat.v1.global_variables_initializer()\n",
    "training_steps = 100\n",
    "with tf.compat.v1.Session() as sess:\n",
    "    sess.run(init)\n",
    "    \n",
    "    for i in range(training_steps):\n",
    "        sess.run(train,feed_dict={X:scaled_data})\n",
    "        \n",
    "    # Now ask for the hidden layer output (the 2 dimensional output)\n",
    "    output_2d = hidden.eval(feed_dict={X: scaled_data})"
   ]
  },
  {
   "cell_type": "code",
   "execution_count": 35,
   "metadata": {},
   "outputs": [
    {
     "data": {
      "text/plain": [
       "Text(0.5, 1.0, 'Two dimensional reduction of data ')"
      ]
     },
     "execution_count": 35,
     "metadata": {},
     "output_type": "execute_result"
    },
    {
     "data": {
      "image/png": "[encoded data removed]",
      "text/plain": [
       "<Figure size 720x576 with 1 Axes>"
      ]
     },
     "metadata": {
      "needs_background": "light"
     },
     "output_type": "display_data"
    }
   ],
   "source": [
    "# we plot the results \n",
    "plt.figure(figsize=(10,8))\n",
    "dim_1=output_2d[:,0]\n",
    "dim_2=output_2d[:,1]\n",
    "label=data['Label']\n",
    "plt.scatter(dim_1,dim_2,c=label)\n",
    "plt.title('Two dimensional reduction of data ')"
   ]
  },
  {
   "cell_type": "code",
   "execution_count": null,
   "metadata": {},
   "outputs": [],
   "source": []
  }
 ],
 "metadata": {
  "kernelspec": {
   "display_name": "Python 3",
   "language": "python",
   "name": "python3"
  },
  "language_info": {
   "codemirror_mode": {
    "name": "ipython",
    "version": 3
   },
   "file_extension": ".py",
   "mimetype": "text/x-python",
   "name": "python",
   "nbconvert_exporter": "python",
   "pygments_lexer": "ipython3",
   "version": "3.7.6"
  }
 },
 "nbformat": 4,
 "nbformat_minor": 4
}
